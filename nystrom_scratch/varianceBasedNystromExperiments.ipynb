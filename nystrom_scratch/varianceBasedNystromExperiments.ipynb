{
 "cells": [
  {
   "cell_type": "markdown",
   "metadata": {},
   "source": [
    "# Variance-based Nystrom randomized svd method\n",
    "Constructs low rank eigenvalue decomposition of a symmetric matrix that is the average of many other symmetric matrices.\n",
    "\n",
    "The conventional Nystrom method is explained in of Halko, Martinsson, Tropp, Page 32, Algorithm 5.3\n",
    "\n",
    "Unlike the conventional method, which truncates based on size of the eigenvalues, here we truncated based on the relative variance of the Rayleigh quotients in eigenvector directions."
   ]
  },
  {
   "cell_type": "code",
   "execution_count": 1,
   "metadata": {},
   "outputs": [],
   "source": [
    "import numpy as np\n",
    "import sys\n",
    "sys.path.append('../hessianlearn/algorithms/')\n",
    "from varianceBasedNystrom import *\n",
    "import matplotlib.pyplot as plt"
   ]
  },
  {
   "cell_type": "code",
   "execution_count": 2,
   "metadata": {},
   "outputs": [],
   "source": [
    "n = 500\n",
    "m = 50\n",
    "p = 7\n",
    "batch_r = 10\n",
    "randomness_factor = 0.1"
   ]
  },
  {
   "cell_type": "markdown",
   "metadata": {},
   "source": [
    "# Make random symmetric matrices\n",
    "$$A = \\frac{1}{m}\\left(A_1 + A_2 + \\dots + A_m\\right)$$"
   ]
  },
  {
   "cell_type": "code",
   "execution_count": 3,
   "metadata": {},
   "outputs": [],
   "source": [
    "def make_random_symmetric_matrix():\n",
    "    U, _ = np.linalg.qr(np.random.randn(n,n))\n",
    "    ss = np.random.randn(n)**p\n",
    "    A = np.dot(U, np.dot(np.diag(ss), U.T))\n",
    "    return A"
   ]
  },
  {
   "cell_type": "code",
   "execution_count": 4,
   "metadata": {},
   "outputs": [],
   "source": [
    "A0 = make_random_symmetric_matrix()\n",
    "AA = [A0 + randomness_factor * make_random_symmetric_matrix() for _ in range(m)]\n",
    "    \n",
    "apply_AA = [lambda x, Ak=Ak: np.dot(Ak,x) for Ak in AA]\n",
    "\n",
    "A = np.sum(AA, axis=0)/m"
   ]
  },
  {
   "cell_type": "code",
   "execution_count": 5,
   "metadata": {},
   "outputs": [
    {
     "data": {
      "text/plain": [
       "0.0"
      ]
     },
     "execution_count": 5,
     "metadata": {},
     "output_type": "execute_result"
    }
   ],
   "source": [
    "x = np.random.randn(n)\n",
    "np.linalg.norm(apply_AA[2](x) - np.dot(AA[2],x))"
   ]
  },
  {
   "cell_type": "code",
   "execution_count": 6,
   "metadata": {},
   "outputs": [
    {
     "data": {
      "text/plain": [
       "0.0875297176588406"
      ]
     },
     "execution_count": 6,
     "metadata": {},
     "output_type": "execute_result"
    }
   ],
   "source": [
    "np.linalg.norm(AA[0] - A0)/np.linalg.norm(A0)"
   ]
  },
  {
   "cell_type": "code",
   "execution_count": 7,
   "metadata": {},
   "outputs": [
    {
     "name": "stdout",
     "output_type": "stream",
     "text": [
      "err_A_sym= 1.6243725619083162e-16\n"
     ]
    },
    {
     "data": {
      "text/plain": [
       "[<matplotlib.lines.Line2D at 0x7fa4884e7e50>]"
      ]
     },
     "execution_count": 7,
     "metadata": {},
     "output_type": "execute_result"
    },
    {
     "data": {
      "image/png": "[encoded data removed]",
      "text/plain": [
       "<Figure size 432x288 with 1 Axes>"
      ]
     },
     "metadata": {
      "needs_background": "light"
     },
     "output_type": "display_data"
    }
   ],
   "source": [
    "err_A_sym = np.linalg.norm(A - A.T)/np.linalg.norm(A)\n",
    "print('err_A_sym=', err_A_sym)\n",
    "\n",
    "plt.figure()\n",
    "for k in range(5):\n",
    "    _,ss,_ = np.linalg.svd(AA[k])\n",
    "    plt.semilogy(ss)\n",
    "plt.title('singular values for Ak\\'s')\n",
    "\n",
    "_,ss,_ = np.linalg.svd(A)\n",
    "plt.semilogy(ss)"
   ]
  },
  {
   "cell_type": "markdown",
   "metadata": {},
   "source": [
    "# Get approximate orthogonal basis for range\n",
    "$$\\Omega = \\text{random }n \\times r\\text{ matrix}$$\n",
    "$$Y = A \\Omega$$ \n",
    "$$QR = Y$$"
   ]
  },
  {
   "cell_type": "code",
   "execution_count": 8,
   "metadata": {},
   "outputs": [],
   "source": [
    "Y = get_random_range_vectors(apply_AA, n, batch_r)"
   ]
  },
  {
   "cell_type": "code",
   "execution_count": 9,
   "metadata": {},
   "outputs": [],
   "source": [
    "Q,_ = np.linalg.qr(Y)"
   ]
  },
  {
   "cell_type": "code",
   "execution_count": 10,
   "metadata": {},
   "outputs": [
    {
     "name": "stdout",
     "output_type": "stream",
     "text": [
      "range_err= 0.3648051266082635\n"
     ]
    }
   ],
   "source": [
    "range_err = np.linalg.norm(A - np.dot(Q, np.dot(Q.T, A)))/np.linalg.norm(A)\n",
    "print('range_err=', range_err)"
   ]
  },
  {
   "cell_type": "markdown",
   "metadata": {},
   "source": [
    "# Construct Theta tensor\n",
    "$$\\Theta_{ijk} = q_i^T A_k q_j$$\n",
    "I.e.,\n",
    "$$\\Theta_{::k} = Q^T A_k Q$$"
   ]
  },
  {
   "cell_type": "markdown",
   "metadata": {},
   "source": [
    "$$A \\approx Q(Q^T A Q)Q^T$$\n",
    "$$Q^T A Q = V D V^T$$\n",
    "$$A = U D U^T$$\n",
    "$$U = QV$$\n",
    "$$Q^T A Q = \\sum_k \\Theta_{ijk}$$"
   ]
  },
  {
   "cell_type": "code",
   "execution_count": 11,
   "metadata": {},
   "outputs": [],
   "source": [
    "Theta = compute_Theta(Q, apply_AA)"
   ]
  },
  {
   "cell_type": "code",
   "execution_count": 12,
   "metadata": {},
   "outputs": [],
   "source": [
    "def compute_Theta_slow(Q, apply_AA):\n",
    "    r = Q.shape[1]\n",
    "    m = len(apply_AA)\n",
    "    Theta_true = np.zeros((r, r, m))\n",
    "    for i in range(r):\n",
    "        for j in range(r):\n",
    "            for k in range(m):\n",
    "                Theta_true[i,j,k] = np.dot(Q[:,i], apply_AA[k](Q[:,j]))\n",
    "    return Theta_true"
   ]
  },
  {
   "cell_type": "code",
   "execution_count": 13,
   "metadata": {},
   "outputs": [
    {
     "name": "stdout",
     "output_type": "stream",
     "text": [
      "err_Theta= 2.143422950799156e-16\n"
     ]
    }
   ],
   "source": [
    "Theta_true = compute_Theta_slow(Q, apply_AA)\n",
    "err_Theta = np.linalg.norm(Theta - Theta_true)/np.linalg.norm(Theta_true)\n",
    "print('err_Theta=', err_Theta)"
   ]
  },
  {
   "cell_type": "markdown",
   "metadata": {},
   "source": [
    "# Construct eigenvalue decomposition\n",
    "$$A \\approx U D U^T$$\n",
    "where $D$ is the diagonal matrix with diagonal dd."
   ]
  },
  {
   "cell_type": "code",
   "execution_count": 14,
   "metadata": {},
   "outputs": [],
   "source": [
    "dd, U, V = finish_computing_eigenvalue_decomposition(Q, Theta)"
   ]
  },
  {
   "cell_type": "code",
   "execution_count": 15,
   "metadata": {},
   "outputs": [
    {
     "name": "stdout",
     "output_type": "stream",
     "text": [
      "err_A= 0.45788536276688374\n"
     ]
    }
   ],
   "source": [
    "A_approx = np.dot(U, np.dot(np.diag(dd), U.T))\n",
    "err_A = np.linalg.norm(A - A_approx)/np.linalg.norm(A)\n",
    "print('err_A=', err_A)"
   ]
  },
  {
   "cell_type": "markdown",
   "metadata": {},
   "source": [
    "# Compute mean and variance of Rayleigh quotients\n",
    "$$\\mu_i = \\mathbb{E}_{A_k}\\left[ u_i^T A_k u_i\\right]$$\n",
    "$$\\sigma_i^2 = \\mathbb{E}_{A_k}\\left[ \\left(u_i^T A_k u_i - \\mu_i\\right)^2\\right]$$\n",
    "where\n",
    "$$U = \\begin{bmatrix}\n",
    "u_1 & u_2 & \\dots & u_r\n",
    "\\end{bmatrix}$$\n",
    "$$A = Q V D V^T Q^T$$\n",
    "$$u_i = Q v_i$$\n",
    "$$V = \\begin{bmatrix}\n",
    "v_1 & v_2 & \\dots v_r\n",
    "\\end{bmatrix}$$\n",
    "$$u_i^T A_k u_i = (Qv_i)^T A_k (Qv_i) = v_i^T (Q^T A_k Q) v_i$$"
   ]
  },
  {
   "cell_type": "code",
   "execution_count": 16,
   "metadata": {},
   "outputs": [],
   "source": [
    "all_mu, all_std = compute_rayleigh_statistics(Theta, V)"
   ]
  },
  {
   "cell_type": "code",
   "execution_count": 17,
   "metadata": {},
   "outputs": [],
   "source": [
    "def compute_rayleigh_statistics_slow(U, apply_AA):\n",
    "    m = len(apply_AA)\n",
    "    r = U.shape[1]\n",
    "    C = np.zeros((r, m))\n",
    "    for k in range(m):\n",
    "        for i in range(r):\n",
    "            C[i,k] = np.dot(U[:,i], apply_AA[k](U[:,i]))\n",
    "\n",
    "    all_mu = np.mean(C, axis=1)\n",
    "    all_std = np.std(C, axis=1)\n",
    "    return all_mu, all_std"
   ]
  },
  {
   "cell_type": "code",
   "execution_count": 18,
   "metadata": {},
   "outputs": [
    {
     "name": "stdout",
     "output_type": "stream",
     "text": [
      "err_mu= 9.030648095072285e-17\n",
      "err_std= 8.821315206196506e-15\n"
     ]
    }
   ],
   "source": [
    "all_mu_true, all_std_true = compute_rayleigh_statistics_slow(U, apply_AA)\n",
    "\n",
    "err_mu = np.linalg.norm(all_mu - all_mu_true)/np.linalg.norm(all_mu_true)\n",
    "err_std = np.linalg.norm(all_std - all_std_true)/np.linalg.norm(all_std_true)\n",
    "\n",
    "print('err_mu=', err_mu)\n",
    "print('err_std=', err_std)"
   ]
  },
  {
   "cell_type": "markdown",
   "metadata": {},
   "source": [
    "# Get more vectors for better range approximation\n",
    "$$Q_\\text{new} = \\begin{bmatrix}Q & Q_2\\end{bmatrix}$$"
   ]
  },
  {
   "cell_type": "code",
   "execution_count": 19,
   "metadata": {},
   "outputs": [],
   "source": [
    "Y2 = get_random_range_vectors(apply_AA, n, batch_r)\n",
    "Y2_perp = Y2 - np.dot(Q,np.dot(Q.T, Y2))\n",
    "Q2,_ = np.linalg.qr(Y2_perp)\n",
    "Q_new = np.hstack([Q, Q2])"
   ]
  },
  {
   "cell_type": "code",
   "execution_count": 20,
   "metadata": {},
   "outputs": [
    {
     "name": "stdout",
     "output_type": "stream",
     "text": [
      "err_Q_orth= 5.202931864871794e-15\n"
     ]
    }
   ],
   "source": [
    "err_Q_orth = np.linalg.norm(np.dot(Q_new.T, Q_new) - np.eye(Q_new.shape[1]))\n",
    "print('err_Q_orth=', err_Q_orth)"
   ]
  },
  {
   "cell_type": "markdown",
   "metadata": {},
   "source": [
    "# Redo computations with better range approximation"
   ]
  },
  {
   "cell_type": "markdown",
   "metadata": {},
   "source": [
    "$$\\Theta_{::k} = \\begin{bmatrix}\n",
    "\\Theta^{(11)}_{::k} & \\Theta^{(12)}_{::k} \\\\\n",
    "\\Theta^{(21)}_{::k} & \\Theta^{(22)}_{::k} \n",
    "\\end{bmatrix}$$"
   ]
  },
  {
   "cell_type": "code",
   "execution_count": 21,
   "metadata": {},
   "outputs": [],
   "source": [
    "Theta_new = update_Theta(Q, Q2, Theta, apply_AA)"
   ]
  },
  {
   "cell_type": "code",
   "execution_count": 22,
   "metadata": {},
   "outputs": [
    {
     "name": "stdout",
     "output_type": "stream",
     "text": [
      "err_Theta_new= 2.20249494741147e-16\n"
     ]
    }
   ],
   "source": [
    "Theta_true_new = compute_Theta_slow(Q_new, apply_AA)\n",
    "\n",
    "err_Theta_new = np.linalg.norm(Theta_new - Theta_true_new)/np.linalg.norm(Theta_true_new)\n",
    "print('err_Theta_new=', err_Theta_new)"
   ]
  },
  {
   "cell_type": "code",
   "execution_count": 23,
   "metadata": {},
   "outputs": [],
   "source": [
    "dd_new, U_new, V_new = finish_computing_eigenvalue_decomposition(Q_new, Theta_new)"
   ]
  },
  {
   "cell_type": "code",
   "execution_count": 24,
   "metadata": {},
   "outputs": [
    {
     "name": "stdout",
     "output_type": "stream",
     "text": [
      "err_A_new= 0.24150317157168258\n"
     ]
    }
   ],
   "source": [
    "A_approx_new = np.dot(U_new, np.dot(np.diag(dd_new), U_new.T))\n",
    "err_A_new = np.linalg.norm(A - A_approx_new)/np.linalg.norm(A)\n",
    "print('err_A_new=', err_A_new)"
   ]
  },
  {
   "cell_type": "code",
   "execution_count": 25,
   "metadata": {},
   "outputs": [],
   "source": [
    "all_mu_new, all_std_new = compute_rayleigh_statistics(Theta_new, V_new)"
   ]
  },
  {
   "cell_type": "code",
   "execution_count": 26,
   "metadata": {},
   "outputs": [
    {
     "data": {
      "text/plain": [
       "[<matplotlib.lines.Line2D at 0x7fa4f8d44a90>]"
      ]
     },
     "execution_count": 26,
     "metadata": {},
     "output_type": "execute_result"
    },
    {
     "data": {
      "image/png": "[encoded data removed]",
      "text/plain": [
       "<Figure size 432x288 with 1 Axes>"
      ]
     },
     "metadata": {
      "needs_background": "light"
     },
     "output_type": "display_data"
    }
   ],
   "source": [
    "plt.semilogy(all_std_new/np.abs(dd_new))\n",
    "plt.semilogy(all_std/np.abs(dd))"
   ]
  },
  {
   "cell_type": "markdown",
   "metadata": {},
   "source": [
    "# Run the complete method from scratch"
   ]
  },
  {
   "cell_type": "code",
   "execution_count": 27,
   "metadata": {},
   "outputs": [
    {
     "name": "stdout",
     "output_type": "stream",
     "text": [
      "current_rank= 5 , num_bad_vectors= 0\n",
      "current_rank= 15 , num_bad_vectors= 0\n",
      "current_rank= 25 , num_bad_vectors= 0\n",
      "current_rank= 35 , num_bad_vectors= 0\n",
      "current_rank= 43 , num_bad_vectors= 2\n",
      "current_rank= 50 , num_bad_vectors= 5\n"
     ]
    }
   ],
   "source": [
    "dd_good, U_good, all_std_good = variance_based_nystrom(apply_AA, n)"
   ]
  },
  {
   "cell_type": "code",
   "execution_count": 28,
   "metadata": {},
   "outputs": [
    {
     "name": "stdout",
     "output_type": "stream",
     "text": [
      "err_A_good= 0.07148963680617475\n"
     ]
    },
    {
     "data": {
      "text/plain": [
       "Text(0.5, 1.0, 'sigma/lambda')"
      ]
     },
     "execution_count": 28,
     "metadata": {},
     "output_type": "execute_result"
    },
    {
     "data": {
      "image/png": "[encoded data removed]",
      "text/plain": [
       "<Figure size 432x288 with 1 Axes>"
      ]
     },
     "metadata": {
      "needs_background": "light"
     },
     "output_type": "display_data"
    }
   ],
   "source": [
    "A_good_approx = np.dot(U_good, np.dot(np.diag(dd_good), U_good.T))\n",
    "err_A_good = np.linalg.norm(A_good_approx - A)/np.linalg.norm(A)\n",
    "print('err_A_good=', err_A_good)\n",
    "plt.semilogy(all_std_good/np.abs(dd_good))\n",
    "plt.title('sigma/lambda')"
   ]
  },
  {
   "cell_type": "code",
   "execution_count": 29,
   "metadata": {},
   "outputs": [
    {
     "name": "stdout",
     "output_type": "stream",
     "text": [
      "(50,)\n",
      "(500, 50)\n"
     ]
    }
   ],
   "source": [
    "print(dd_good.shape)\n",
    "print(U_good.shape)"
   ]
  },
  {
   "cell_type": "code",
   "execution_count": null,
   "metadata": {},
   "outputs": [],
   "source": []
  }
 ],
 "metadata": {
  "kernelspec": {
   "display_name": "Python 3",
   "language": "python",
   "name": "python3"
  },
  "language_info": {
   "codemirror_mode": {
    "name": "ipython",
    "version": 3
   },
   "file_extension": ".py",
   "mimetype": "text/x-python",
   "name": "python",
   "nbconvert_exporter": "python",
   "pygments_lexer": "ipython3",
   "version": "3.7.6"
  }
 },
 "nbformat": 4,
 "nbformat_minor": 4
}
