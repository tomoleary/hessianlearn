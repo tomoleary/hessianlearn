{
 "cells": [
  {
   "cell_type": "code",
   "execution_count": 1,
   "metadata": {},
   "outputs": [
    {
     "name": "stdout",
     "output_type": "stream",
     "text": [
      "WARNING:tensorflow:From /Users/tom64/opt/anaconda3/lib/python3.7/site-packages/tensorflow_core/python/compat/v2_compat.py:65: disable_resource_variables (from tensorflow.python.ops.variable_scope) is deprecated and will be removed in a future version.\n",
      "Instructions for updating:\n",
      "non-resource variables are not supported in the long term\n"
     ]
    }
   ],
   "source": [
    "import numpy as np\n",
    "import os, sys\n",
    "import tensorflow as tf\n",
    "os.environ['TF_CPP_MIN_LOG_LEVEL'] = '3' \n",
    "os.environ['KMP_DUPLICATE_LIB_OK']='True'\n",
    "os.environ[\"KMP_WARNINGS\"] = \"FALSE\" \n",
    "import time\n",
    "# Import hessianlearn repository\n",
    "sys.path.append( os.environ.get('HESSIANLEARN_PATH', \"../../\"))\n",
    "from hessianlearn import *\n",
    "\n",
    "sys.path.append('../hessianlearn/algorithms')\n",
    "from varianceBasedNystrom import *\n",
    "import matplotlib.pyplot as plt"
   ]
  },
  {
   "cell_type": "code",
   "execution_count": 2,
   "metadata": {},
   "outputs": [],
   "source": [
    "settings = {}\n",
    "settings['batch_size'] = 100\n",
    "settings['hess_batch_size'] = 10\n",
    "\n",
    "(x_train, y_train), (x_test, y_test) = tf.keras.datasets.mnist.load_data()\n",
    "\n",
    "\n",
    "# Normalize the data\n",
    "x_train = x_train.astype('float32') / 255.\n",
    "x_test = x_test.astype('float32') / 255.\n",
    "# Reshape the data\n",
    "x_train = x_train.reshape((len(x_train), np.prod(x_train.shape[1:])))\n",
    "x_test = x_test.reshape((len(x_test), np.prod(x_test.shape[1:])))\n",
    "\n",
    "# Instante the data object\n",
    "data = Data([x_train,y_train],settings['batch_size'],\\\n",
    "            test_data = [x_test,y_test],hessian_batch_size = settings['hess_batch_size'])"
   ]
  },
  {
   "cell_type": "code",
   "execution_count": 3,
   "metadata": {},
   "outputs": [
    {
     "name": "stdout",
     "output_type": "stream",
     "text": [
      "WARNING:tensorflow:From /Users/tom64/opt/anaconda3/lib/python3.7/site-packages/tensorflow_core/python/ops/resource_variable_ops.py:1630: calling BaseResourceVariable.__init__ (from tensorflow.python.ops.resource_variable_ops) with constraint is deprecated and will be removed in a future version.\n",
      "Instructions for updating:\n",
      "If using Keras pass *_constraint arguments to layers.\n"
     ]
    }
   ],
   "source": [
    "encoding_dim = 32  \n",
    "input_img = tf.keras.layers.Input(shape=(784,))\n",
    "encoded = tf.keras.layers.Dense(encoding_dim, activation='softplus')(input_img)\n",
    "decoded = tf.keras.layers.Dense(784, activation='sigmoid')(encoded)\n",
    "autoencoder = tf.keras.models.Model(input_img, decoded)"
   ]
  },
  {
   "cell_type": "code",
   "execution_count": 4,
   "metadata": {},
   "outputs": [],
   "source": [
    "problem = AutoencoderProblem(autoencoder,dtype=tf.float32)\n",
    "\n",
    "settings['tikhonov_gamma'] = 0.0\n",
    "\n",
    "regularization = L2Regularization(problem,gamma = settings['tikhonov_gamma'])"
   ]
  },
  {
   "cell_type": "code",
   "execution_count": 5,
   "metadata": {},
   "outputs": [],
   "source": [
    "def compute_Theta_slow(Q, apply_AA):\n",
    "    r = Q.shape[1]\n",
    "    m = len(apply_AA)\n",
    "    Theta_true = np.zeros((r, r, m))\n",
    "    for i in range(r):\n",
    "        for j in range(r):\n",
    "            for k in range(m):\n",
    "                Theta_true[i,j,k] = np.dot(Q[:,i], apply_AA[k](Q[:,j]))\n",
    "    return Theta_true\n",
    "\n",
    "def compute_rayleigh_statistics_slow(U, apply_AA):\n",
    "    m = len(apply_AA)\n",
    "    r = U.shape[1]\n",
    "    C = np.zeros((r, m))\n",
    "    for k in range(m):\n",
    "        for i in range(r):\n",
    "            C[i,k] = np.dot(U[:,i], apply_AA[k](U[:,i]))\n",
    "\n",
    "    all_mu = np.mean(C, axis=1)\n",
    "    all_std = np.std(C, axis=1)\n",
    "    return all_mu, all_std"
   ]
  },
  {
   "cell_type": "code",
   "execution_count": 6,
   "metadata": {},
   "outputs": [
    {
     "name": "stdout",
     "output_type": "stream",
     "text": [
      "92.00505\n",
      "w_hat.shape =  (50992,)\n",
      "||w_hat|| =  225.07497834479076\n",
      "||Hw_hat|| =  0.20873709\n",
      "current_rank= 5 , num_bad_vectors= 0\n",
      "current_rank= 15 , num_bad_vectors= 0\n",
      "current_rank= 25 , num_bad_vectors= 0\n",
      "current_rank= 35 , num_bad_vectors= 0\n",
      "current_rank= 45 , num_bad_vectors= 0\n",
      "current_rank= 55 , num_bad_vectors= 0\n",
      "current_rank= 65 , num_bad_vectors= 0\n",
      "current_rank= 75 , num_bad_vectors= 0\n",
      "current_rank= 85 , num_bad_vectors= 0\n",
      "current_rank= 95 , num_bad_vectors= 0\n",
      "current_rank= 105 , num_bad_vectors= 0\n"
     ]
    },
    {
     "data": {
      "image/png": "[encoded data removed]",
      "text/plain": [
       "<Figure size 432x288 with 1 Axes>"
      ]
     },
     "metadata": {
      "needs_background": "light"
     },
     "output_type": "display_data"
    }
   ],
   "source": [
    "with tf.Session() as sess:\n",
    "    random_state = np.random.RandomState(seed=0)\n",
    "    \n",
    "    sess.run(tf.global_variables_initializer())\n",
    "    \n",
    "    hessian = Hessian(problem = problem,sess = sess)\n",
    "    n = hessian.dimension\n",
    "    x_batch,_ = next(data.train)\n",
    "    \n",
    "    x_data = x_batch[0:100]\n",
    "\n",
    "    print(np.linalg.norm(x_data))\n",
    "    \n",
    "    w_hat = random_state.randn(hessian.dimension)\n",
    "    print('w_hat.shape = ',w_hat.shape)\n",
    "    feed_dict = {problem.x : x_data}\n",
    "    \n",
    "    Hw_hat = hessian(w_hat,feed_dict)\n",
    "    print('||w_hat|| = ',np.linalg.norm(w_hat))\n",
    "    print('||Hw_hat|| = ',np.linalg.norm(Hw_hat))\n",
    "    \n",
    "    data_dictionaries = [{problem.x : np.expand_dims(x_datum,axis=0)} for x_datum in x_data]\n",
    "    apply_AA = [lambda x: hessian(x,dictionary) for dictionary in data_dictionaries]\n",
    "\n",
    "    if False:\n",
    "        batch_r = 10\n",
    "        Y = get_random_range_vectors(apply_AA, n, batch_r)\n",
    "\n",
    "        Q,_ = np.linalg.qr(Y)\n",
    "        Theta = compute_Theta(Q, apply_AA)\n",
    "        print('Theta shape = ',Theta.shape)\n",
    "\n",
    "        Theta_true = compute_Theta_slow(Q, apply_AA)\n",
    "        err_Theta = np.linalg.norm(Theta - Theta_true)/np.linalg.norm(Theta_true)\n",
    "        print('err_Theta=', err_Theta)\n",
    "        dd, U, V = finish_computing_eigenvalue_decomposition(Q, Theta)\n",
    "\n",
    "        all_mu, all_std = compute_rayleigh_statistics(Theta, V)\n",
    "\n",
    "        all_mu_true, all_std_true = compute_rayleigh_statistics_slow(U, apply_AA)\n",
    "\n",
    "        err_mu = np.linalg.norm(all_mu - all_mu_true)/np.linalg.norm(all_mu_true)\n",
    "        err_std = np.linalg.norm(all_std - all_std_true)/np.linalg.norm(all_std_true)\n",
    "\n",
    "        print('all_std = ',all_std)\n",
    "        print('all_std_true = ',all_std_true)\n",
    "\n",
    "        print('err_mu=', err_mu)\n",
    "        print('err_std=', err_std)\n",
    "\n",
    "    \n",
    "    dd_good, U_good, all_std_good = variance_based_nystrom(apply_AA, n)\n",
    "    plt.semilogy(all_std_good/np.abs(dd_good))\n",
    "    plt.title('sigma/lambda')\n",
    "    "
   ]
  },
  {
   "cell_type": "code",
   "execution_count": null,
   "metadata": {},
   "outputs": [],
   "source": []
  },
  {
   "cell_type": "code",
   "execution_count": null,
   "metadata": {},
   "outputs": [],
   "source": []
  }
 ],
 "metadata": {
  "kernelspec": {
   "display_name": "Python 3",
   "language": "python",
   "name": "python3"
  },
  "language_info": {
   "codemirror_mode": {
    "name": "ipython",
    "version": 3
   },
   "file_extension": ".py",
   "mimetype": "text/x-python",
   "name": "python",
   "nbconvert_exporter": "python",
   "pygments_lexer": "ipython3",
   "version": "3.7.6"
  }
 },
 "nbformat": 4,
 "nbformat_minor": 4
}
