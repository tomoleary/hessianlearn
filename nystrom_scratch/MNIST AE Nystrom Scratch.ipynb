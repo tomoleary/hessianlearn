{
 "cells": [
  {
   "cell_type": "code",
   "execution_count": 1,
   "metadata": {},
   "outputs": [
    {
     "name": "stdout",
     "output_type": "stream",
     "text": [
      "WARNING:tensorflow:From /Users/tom64/opt/anaconda3/lib/python3.7/site-packages/tensorflow_core/python/compat/v2_compat.py:65: disable_resource_variables (from tensorflow.python.ops.variable_scope) is deprecated and will be removed in a future version.\n",
      "Instructions for updating:\n",
      "non-resource variables are not supported in the long term\n"
     ]
    }
   ],
   "source": [
    "import numpy as np\n",
    "import os, sys\n",
    "import tensorflow as tf\n",
    "os.environ['TF_CPP_MIN_LOG_LEVEL'] = '3' \n",
    "os.environ['KMP_DUPLICATE_LIB_OK']='True'\n",
    "os.environ[\"KMP_WARNINGS\"] = \"FALSE\" \n",
    "import time\n",
    "# Import hessianlearn repository\n",
    "sys.path.append( os.environ.get('HESSIANLEARN_PATH', \"../../\"))\n",
    "from hessianlearn import *\n",
    "\n",
    "sys.path.append('../hessianlearn/algorithms')\n",
    "from varianceBasedNystrom import *\n",
    "import matplotlib.pyplot as plt"
   ]
  },
  {
   "cell_type": "code",
   "execution_count": 2,
   "metadata": {},
   "outputs": [],
   "source": [
    "settings = {}\n",
    "settings['batch_size'] = 1000\n",
    "settings['hess_batch_size'] = 10\n",
    "\n",
    "(x_train, y_train), (x_test, y_test) = tf.keras.datasets.mnist.load_data()\n",
    "\n",
    "\n",
    "# Normalize the data\n",
    "x_train = x_train.astype('float32') / 255.\n",
    "x_test = x_test.astype('float32') / 255.\n",
    "# Reshape the data\n",
    "x_train = x_train.reshape((len(x_train), np.prod(x_train.shape[1:])))\n",
    "x_test = x_test.reshape((len(x_test), np.prod(x_test.shape[1:])))\n",
    "\n",
    "# Instante the data object\n",
    "data = Data([x_train,y_train],settings['batch_size'],\\\n",
    "            test_data = [x_test,y_test],hessian_batch_size = settings['hess_batch_size'])"
   ]
  },
  {
   "cell_type": "code",
   "execution_count": 3,
   "metadata": {},
   "outputs": [
    {
     "name": "stdout",
     "output_type": "stream",
     "text": [
      "WARNING:tensorflow:From /Users/tom64/opt/anaconda3/lib/python3.7/site-packages/tensorflow_core/python/ops/resource_variable_ops.py:1630: calling BaseResourceVariable.__init__ (from tensorflow.python.ops.resource_variable_ops) with constraint is deprecated and will be removed in a future version.\n",
      "Instructions for updating:\n",
      "If using Keras pass *_constraint arguments to layers.\n"
     ]
    }
   ],
   "source": [
    "encoding_dim = 32  \n",
    "input_img = tf.keras.layers.Input(shape=(784,))\n",
    "encoded = tf.keras.layers.Dense(encoding_dim, activation='softplus')(input_img)\n",
    "decoded = tf.keras.layers.Dense(784, activation='sigmoid')(encoded)\n",
    "autoencoder = tf.keras.models.Model(input_img, decoded)"
   ]
  },
  {
   "cell_type": "code",
   "execution_count": 4,
   "metadata": {},
   "outputs": [
    {
     "name": "stdout",
     "output_type": "stream",
     "text": [
      "################################################################################\n",
      "                      Size of configuration space:  50992                       \n",
      "                          Size of training data: 60000                          \n",
      "                    Approximate data cardinality needed: 65                     \n",
      "################################################################################\n",
      "                 Using low rank SFN optimizer with line search                  \n",
      "                               Batch size = 1000                                \n",
      "                            Hessian batch size = 10                             \n",
      "                             Hessian low rank = 20                              \n",
      "################################################################################\n",
      " sweeps    Loss     acc train   ||g||     Loss test  acc test   maxacc test  alpha       rank     \n",
      "  0.00   2.3367e-01 -43.361% 3.1947e-02 2.3352e-01 -43.150% -43.150% 0.0000e+00          0 \n",
      "  0.00   1.0633e-01 3.291% 2.3454e-02 1.0575e-01 3.670% 3.670% 1.0000e+00         20 \n",
      "  0.03   9.8654e-02 3.894% 2.5734e-02 1.0250e-01 5.161% 5.161% 3.1250e-02         20 \n"
     ]
    }
   ],
   "source": [
    "problem = AutoencoderProblem(autoencoder,dtype=tf.float32)\n",
    "\n",
    "settings['tikhonov_gamma'] = 0.0\n",
    "\n",
    "regularization = L2Regularization(problem,gamma = settings['tikhonov_gamma'])\n",
    "\n",
    "HLModel = HessianlearnModel(problem,regularization,data)\n",
    "HLModel.settings['max_sweeps'] = 0.05\n",
    "\n",
    "HLModel.fit()\n",
    "\n",
    "set_weights = HLModel._best_weights\n"
   ]
  },
  {
   "cell_type": "code",
   "execution_count": 5,
   "metadata": {},
   "outputs": [],
   "source": [
    "def compute_Theta_slow(Q, apply_AA):\n",
    "    r = Q.shape[1]\n",
    "    m = len(apply_AA)\n",
    "    Theta_true = np.zeros((r, r, m))\n",
    "    for i in range(r):\n",
    "        for j in range(r):\n",
    "            for k in range(m):\n",
    "                Theta_true[i,j,k] = np.dot(Q[:,i], apply_AA[k](Q[:,j]))\n",
    "    return Theta_true\n",
    "\n",
    "def compute_rayleigh_statistics_slow(U, apply_AA):\n",
    "    m = len(apply_AA)\n",
    "    r = U.shape[1]\n",
    "    C = np.zeros((r, m))\n",
    "    for k in range(m):\n",
    "        for i in range(r):\n",
    "            C[i,k] = np.dot(U[:,i], apply_AA[k](U[:,i]))\n",
    "\n",
    "    all_mu = np.mean(C, axis=1)\n",
    "    all_std = np.std(C, axis=1)\n",
    "    return all_mu, all_std"
   ]
  },
  {
   "cell_type": "code",
   "execution_count": 6,
   "metadata": {},
   "outputs": [
    {
     "name": "stdout",
     "output_type": "stream",
     "text": [
      "dict_keys(['input_1', 'dense', 'dense_1'])\n",
      "current_rank= 5 , num_bad_vectors= 0\n",
      "current_rank= 15 , num_bad_vectors= 0\n",
      "current_rank= 25 , num_bad_vectors= 0\n",
      "current_rank= 32 , num_bad_vectors= 3\n",
      "current_rank= 44 , num_bad_vectors= 1\n",
      "current_rank= 51 , num_bad_vectors= 4\n",
      "current_rank= 56 , num_bad_vectors= 9\n",
      "current_rank= 57 , num_bad_vectors= 18\n",
      "current_rank= 60 , num_bad_vectors= 25\n",
      "current_rank= 64 , num_bad_vectors= 31\n",
      "current_rank= 66 , num_bad_vectors= 39\n"
     ]
    }
   ],
   "source": [
    "class HessianWrapper:\n",
    "    \n",
    "    def __init__(self,hessian,data_dictionary):\n",
    "        \n",
    "        self._hessian = hessian\n",
    "        self._data_dictionary = data_dictionary\n",
    "        \n",
    "        \n",
    "    def __call__(self,x):\n",
    "        return self._hessian(x,self._data_dictionary)\n",
    "\n",
    "with tf.Session() as sess:\n",
    "    random_state = np.random.RandomState(seed=0)\n",
    "    \n",
    "    sess.run(tf.global_variables_initializer())\n",
    "    \n",
    "    try:\n",
    "        print(set_weights.keys())\n",
    "        for layer_name in set_weights:\n",
    "            autoencoder.get_layer(layer_name).set_weights(set_weights[layer_name])\n",
    "    except:\n",
    "        pass\n",
    "    \n",
    "    hessian = Hessian(problem = problem,sess = sess)\n",
    "    n = hessian.dimension\n",
    "    x_batch,_ = next(data.train)\n",
    "    \n",
    "    x_data = x_batch\n",
    "    \n",
    "    total_data = len(x_data)\n",
    "    my_indices = np.arange(total_data).reshape((10,100))\n",
    "    \n",
    "    indices_list = [my_indices[:,k] for k in range(my_indices.shape[1])]\n",
    "    \n",
    "    data_dictionaries = [{problem.x : x_data[indices]} for indices in indices_list]\n",
    "    \n",
    "\n",
    "#     data_dictionaries = [{problem.x : np.expand_dims(x_datum,axis=0)} for x_datum in x_data]\n",
    "    norms_of_data = []\n",
    "    for dictionary in data_dictionaries:\n",
    "        norms_of_data.append(np.linalg.norm(dictionary[problem.x]))\n",
    "    \n",
    "    apply_AA = [HessianWrapper(hessian,dictionary) for dictionary in data_dictionaries]\n",
    "    \n",
    "#     quads_true = []\n",
    "#     for dictionary in data_dictionaries:\n",
    "#         wHw = np.dot(w_hat,hessian(w_hat,dictionary))\n",
    "#         quads_true.append(wHw)\n",
    "        \n",
    "\n",
    "#     quads = []\n",
    "#     for apply_A in apply_AA:\n",
    "#         quads.append(np.dot(w_hat,apply_A(w_hat)))\n",
    "        \n",
    "\n",
    "    if False:\n",
    "        batch_r = 10\n",
    "        Y = get_random_range_vectors(apply_AA, n, batch_r)\n",
    "\n",
    "        Q,_ = np.linalg.qr(Y)\n",
    "        Theta = compute_Theta(Q, apply_AA)\n",
    "        print('Theta shape = ',Theta.shape)\n",
    "\n",
    "        Theta_true = compute_Theta_slow(Q, apply_AA)\n",
    "        err_Theta = np.linalg.norm(Theta - Theta_true)/np.linalg.norm(Theta_true)\n",
    "        print('err_Theta=', err_Theta)\n",
    "        dd, U, V = finish_computing_eigenvalue_decomposition(Q, Theta)\n",
    "\n",
    "        all_mu, all_std = compute_rayleigh_statistics(Theta, V)\n",
    "\n",
    "        all_mu_true, all_std_true = compute_rayleigh_statistics_slow(U, apply_AA)\n",
    "\n",
    "        err_mu = np.linalg.norm(all_mu - all_mu_true)/np.linalg.norm(all_mu_true)\n",
    "        err_std = np.linalg.norm(all_std - all_std_true)/np.linalg.norm(all_std_true)\n",
    "\n",
    "        print('all_std = ',all_std)\n",
    "        print('all_std_true = ',all_std_true)\n",
    "\n",
    "        print('err_mu=', err_mu)\n",
    "        print('err_std=', err_std)\n",
    "\n",
    "    \n",
    "    [dd_good, U_good, all_std_good],[dd_all,U_all,all_std] = variance_based_nystrom(apply_AA, n,max_bad_vectors=100)\n",
    "    \n",
    "    \n"
   ]
  },
  {
   "cell_type": "code",
   "execution_count": 7,
   "metadata": {},
   "outputs": [
    {
     "data": {
      "text/plain": [
       "array([ 0.15434245,  0.15212753,  0.14872531,  0.14513151,  0.14439315,\n",
       "        0.14262263,  0.14194889,  0.14085105,  0.12921347,  0.1288591 ,\n",
       "        0.12254177,  0.11881617,  0.11668669,  0.11566443,  0.10953487,\n",
       "        0.10570626,  0.09430571,  0.09328856,  0.09255398,  0.08891851,\n",
       "        0.08692703,  0.08535097,  0.07942404,  0.07733366,  0.07538985,\n",
       "        0.06683498, -0.0469632 , -0.04537073, -0.04412122, -0.03964585,\n",
       "       -0.03896355, -0.03475649, -0.03445367, -0.03388209, -0.03284241,\n",
       "       -0.03198868, -0.03102815, -0.0295025 , -0.0289437 , -0.0276152 ,\n",
       "       -0.02726606, -0.02484857, -0.02422782, -0.02418634, -0.02370053,\n",
       "       -0.01767801, -0.01664308, -0.01626918, -0.01546271, -0.01495184,\n",
       "       -0.01427212, -0.01305666, -0.01240498, -0.01223882, -0.01097086,\n",
       "       -0.01068901, -0.00983941, -0.00967619, -0.00883786, -0.00832944,\n",
       "       -0.00729938, -0.00665645, -0.00639599, -0.0061586 , -0.00412066,\n",
       "       -0.00363969])"
      ]
     },
     "execution_count": 7,
     "metadata": {},
     "output_type": "execute_result"
    }
   ],
   "source": [
    "dd_good"
   ]
  },
  {
   "cell_type": "code",
   "execution_count": 8,
   "metadata": {},
   "outputs": [
    {
     "data": {
      "image/png": "[encoded data removed]",
      "text/plain": [
       "<Figure size 720x360 with 1 Axes>"
      ]
     },
     "metadata": {
      "needs_background": "light"
     },
     "output_type": "display_data"
    }
   ],
   "source": [
    "fig = plt.figure(figsize=(10,5))\n",
    "ax = fig.add_subplot(111)\n",
    "ax.semilogy(np.arange(len(dd_good)),np.abs(dd_good))\n",
    "ax.fill_between(np.arange(len(dd_good)),np.abs(dd_good)-all_std_good,np.abs(dd_good)+all_std_good)\n",
    "\n",
    "plt.title('lambda +/- sigma')\n",
    "plt.show()"
   ]
  },
  {
   "cell_type": "code",
   "execution_count": 9,
   "metadata": {},
   "outputs": [
    {
     "data": {
      "image/png": "[encoded data removed]",
      "text/plain": [
       "<Figure size 720x360 with 1 Axes>"
      ]
     },
     "metadata": {
      "needs_background": "light"
     },
     "output_type": "display_data"
    }
   ],
   "source": [
    "fig = plt.figure(figsize=(10,5))\n",
    "ax = fig.add_subplot(111)\n",
    "ax.semilogy(np.arange(len(dd_good)),all_std_good/np.abs(dd_good))\n",
    "\n",
    "plt.title('sigma/lambda')\n",
    "plt.show()"
   ]
  },
  {
   "cell_type": "code",
   "execution_count": 10,
   "metadata": {},
   "outputs": [
    {
     "ename": "SyntaxError",
     "evalue": "invalid syntax (<ipython-input-10-4b37ef281455>, line 1)",
     "output_type": "error",
     "traceback": [
      "\u001b[0;36m  File \u001b[0;32m\"<ipython-input-10-4b37ef281455>\"\u001b[0;36m, line \u001b[0;32m1\u001b[0m\n\u001b[0;31m    |\u001b[0m\n\u001b[0m    ^\u001b[0m\n\u001b[0;31mSyntaxError\u001b[0m\u001b[0;31m:\u001b[0m invalid syntax\n"
     ]
    }
   ],
   "source": [
    "|"
   ]
  }
 ],
 "metadata": {
  "kernelspec": {
   "display_name": "Python 3",
   "language": "python",
   "name": "python3"
  },
  "language_info": {
   "codemirror_mode": {
    "name": "ipython",
    "version": 3
   },
   "file_extension": ".py",
   "mimetype": "text/x-python",
   "name": "python",
   "nbconvert_exporter": "python",
   "pygments_lexer": "ipython3",
   "version": "3.7.6"
  }
 },
 "nbformat": 4,
 "nbformat_minor": 4
}
