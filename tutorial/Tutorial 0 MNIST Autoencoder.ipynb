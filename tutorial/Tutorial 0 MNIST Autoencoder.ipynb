{
 "cells": [
  {
   "cell_type": "code",
   "execution_count": 1,
   "metadata": {},
   "outputs": [],
   "source": [
    "# This file is part of the hessianlearn package\n",
    "#\n",
    "# hessianlearn is free software: you can redistribute it and/or modify\n",
    "# it under the terms of the GNU Lesser General Public License as published by\n",
    "# the Free Software Foundation, either version 3 of the License, or any later version.\n",
    "#\n",
    "# hessianlearn is distributed in the hope that it will be useful,\n",
    "# but WITHOUT ANY WARRANTY; without even the implied warranty of\n",
    "# MERCHANTABILITY or FITNESS FOR A PARTICULAR PURPOSE.  See the\n",
    "# GNU Lesser General Public License for more details.\n",
    "#\n",
    "# You should have received a copy of the GNU Lesser General Public License\n",
    "# If not, see <http://www.gnu.org/licenses/>.\n",
    "#\n",
    "# Author: Tom O'Leary-Roseberry\n",
    "# Contact: tom.olearyroseberry@utexas.edu"
   ]
  },
  {
   "cell_type": "markdown",
   "metadata": {},
   "source": [
    "# Hessianlearn tutorial 0: MNIST Autoencoder\n",
    "\n",
    "In this tutorial, we look at how hessianlearn can be used to train a keras model.\n",
    "\n",
    "We seek to learn a low dimensional representation of data (in this case handwritten MNIST images).\n",
    "\n",
    "We build a simple autoencoder $f(x,w)$ which aims embed information about the handwritten images in a low dimensional space.\n",
    "\n",
    "The training problem is empirical risk minimization over given dataset $X = \\{x_i\\}_{i=1}^N$:\n",
    "\n",
    "\n",
    "$\\text{min}_{w \\in \\mathbb{R}^{d_W}} L(w) = \\frac{1}{2N}\\sum\\limits_{i=1}^N \\| x_i - f(x_i,w)\\|_2^2 $\n",
    "\n",
    "\n",
    "This problem is typically ill-posed and often needs regularization, which is necessary for well posedness whenever the Hessian operator $\\nabla^2 L(w)$ is rank deficient. The training problem is then posed as\n",
    "\n",
    "$\\text{min}_{w \\in \\mathbb{R}^{d_W}} L(w) + R(w)$\n",
    "\n",
    "where $R(w)$ is a regularization operator. In this tutorial we will use Tikhonov regularization $R(w) = \\frac{\\gamma}{2}\\|w\\|_2^2$, for some coefficient $\\gamma >0$.\n",
    "\n",
    "## Structure of hessianlearn library\n",
    "\n",
    "The optimization problem is solved iteratively. The key issues here are how to handle the data, the neural network, the loss function, the regularization, and the overall training.\n",
    "\n",
    "### Data\n",
    "\n",
    "The data $X=\\{x_i\\}_{i=1}^N$ is handled by an object called `Data`, which can be found in hessianlearn/data/data.py. This object takes a training data and testing data, stores it and iterates through the training data during training, and handles all subsampling. \n",
    "\n",
    "### NeuralNetworks: use keras\n",
    "\n",
    "The convention as of September 2020 is to use keras for all neural network models $\\{f(\\cdot,w)\\}$, and pass these models into hessianlearn constructs which handle differentiation, Hessian-vector products, and optimization routines for neural network training. \n",
    "In earlier versions of hessianlearn (based on tf1) hessianlearn used a neural network class `NeuralNetwork` which implements a callable function. This made the transition to keras simple, which also uses a callable framework. I am working on migrating everything to keras, but for now some neural network models still exist in the file hessianlearn/problem/neuralnetwork.py\n",
    "\n",
    "### The loss function and regularization\n",
    "\n",
    "In hessianlearn the loss function $L(w)$ is handled by a problem class (see hessianlearn/problem/problem.py), which takes a neural network into its constructor and handles the loss function as well as all derivatives of the loss function and functions for updating the weights during training. The idea is to have a different problem class for each problem, which inherents from the parent method `Problem`. Each new loss function must implement a method called `_initialize_loss`, and everything else is handled by the constructor of the base class `Parent`.\n",
    "\n",
    "The regularization scheme is handled by a class `Regularization`. The key methods to implement here are `cost`, `gradient`, and the Hessian-vector product method `H_w_hat`.\n",
    "\n",
    "### Optimization using the HessianlearnModel class\n",
    "\n",
    "The neural network training can be done manually by the user, using a for loop and a tensorflow session `tensorflow.compat.v1.Session`, or can be handled by the `HessianlearnModel` class which abstracts the iterative optimization routine away to the method `fit`, as is done in keras (see hessianlearn/model/model.py).\n",
    "\n",
    "This tutorial uses some code taken from [here](https://blog.keras.io/building-autoencoders-in-keras.html)"
   ]
  },
  {
   "cell_type": "markdown",
   "metadata": {},
   "source": [
    "## Python Preamble"
   ]
  },
  {
   "cell_type": "code",
   "execution_count": 2,
   "metadata": {},
   "outputs": [
    {
     "name": "stdout",
     "output_type": "stream",
     "text": [
      "WARNING:tensorflow:From /Users/tom64/opt/anaconda3/envs/hessianlearn/lib/python3.7/site-packages/tensorflow_core/python/compat/v2_compat.py:65: disable_resource_variables (from tensorflow.python.ops.variable_scope) is deprecated and will be removed in a future version.\n",
      "Instructions for updating:\n",
      "non-resource variables are not supported in the long term\n"
     ]
    }
   ],
   "source": [
    "import numpy as np\n",
    "import os, sys\n",
    "import tensorflow as tf\n",
    "os.environ['TF_CPP_MIN_LOG_LEVEL'] = '3' \n",
    "os.environ['KMP_DUPLICATE_LIB_OK']='True'\n",
    "os.environ[\"KMP_WARNINGS\"] = \"FALSE\" \n",
    "import time\n",
    "# Import hessianlearn repository\n",
    "sys.path.append( os.environ.get('HESSIANLEARN_PATH', \"../../\"))\n",
    "from hessianlearn import *"
   ]
  },
  {
   "cell_type": "markdown",
   "metadata": {},
   "source": [
    "## Instantiate the Data"
   ]
  },
  {
   "cell_type": "code",
   "execution_count": 3,
   "metadata": {},
   "outputs": [],
   "source": [
    "settings = {}\n",
    "settings['batch_size'] = 100\n",
    "settings['hess_batch_size'] = 10\n",
    "\n",
    "(x_train, y_train), (x_test, y_test) = tf.keras.datasets.mnist.load_data()\n",
    "\n",
    "\n",
    "# Normalize the data\n",
    "x_train = x_train.astype('float32') / 255.\n",
    "x_test = x_test.astype('float32') / 255.\n",
    "# Reshape the data\n",
    "x_train = x_train.reshape((len(x_train), np.prod(x_train.shape[1:])))\n",
    "x_test = x_test.reshape((len(x_test), np.prod(x_test.shape[1:])))\n",
    "\n",
    "# Instante the data object\n",
    "data = Data([x_train,y_train],settings['batch_size'],\\\n",
    "            test_data = [x_test,y_test],hessian_batch_size = settings['hess_batch_size'])"
   ]
  },
  {
   "cell_type": "markdown",
   "metadata": {},
   "source": [
    "## Create the neural network in keras"
   ]
  },
  {
   "cell_type": "code",
   "execution_count": 4,
   "metadata": {},
   "outputs": [
    {
     "name": "stdout",
     "output_type": "stream",
     "text": [
      "WARNING:tensorflow:From /Users/tom64/opt/anaconda3/envs/hessianlearn/lib/python3.7/site-packages/tensorflow_core/python/ops/resource_variable_ops.py:1630: calling BaseResourceVariable.__init__ (from tensorflow.python.ops.resource_variable_ops) with constraint is deprecated and will be removed in a future version.\n",
      "Instructions for updating:\n",
      "If using Keras pass *_constraint arguments to layers.\n"
     ]
    }
   ],
   "source": [
    "encoding_dim = 32  \n",
    "input_img = tf.keras.layers.Input(shape=(784,))\n",
    "encoded = tf.keras.layers.Dense(encoding_dim, activation='softplus')(input_img)\n",
    "decoded = tf.keras.layers.Dense(784, activation='sigmoid')(encoded)\n",
    "autoencoder = tf.keras.models.Model(input_img, decoded)\n"
   ]
  },
  {
   "cell_type": "markdown",
   "metadata": {},
   "source": [
    "## Instantiate the problem and regularization in hessianlearn"
   ]
  },
  {
   "cell_type": "code",
   "execution_count": 5,
   "metadata": {},
   "outputs": [],
   "source": [
    "problem = AutoencoderProblem(autoencoder,dtype=tf.float32)\n",
    "\n",
    "settings['tikhonov_gamma'] = 0.0\n",
    "\n",
    "regularization = L2Regularization(problem,gamma = settings['tikhonov_gamma'])\n",
    "\n"
   ]
  },
  {
   "cell_type": "markdown",
   "metadata": {},
   "source": [
    "## Instantiate the HessianlearnModel\n",
    "This object mimics the keras Model which handles training"
   ]
  },
  {
   "cell_type": "code",
   "execution_count": 6,
   "metadata": {},
   "outputs": [
    {
     "name": "stdout",
     "output_type": "stream",
     "text": [
      "################################################################################\n",
      "                       Size of configuration space: 50992                       \n",
      "################################################################################\n",
      "                  Using low rank SFN optimizer with fixed step                  \n",
      "                                Batch size = 100                                \n",
      "                            Hessian batch size = 10                             \n",
      "                             Hessian low rank = 10                              \n",
      "################################################################################\n",
      " Sweeps    Loss      acc train    ||g||      Loss_test   acc test    max test     alpha     \n",
      "   0.00   2.3368e-01 -46.686% 3.1843e-02 2.3344e-01 -43.125% -43.125% 5.0000e-02\n",
      "   1.00   2.9248e-02 49.797% 1.2838e-02 2.8079e-02 50.361% 50.930% 5.0000e-02\n",
      "   2.00   1.8196e-02 60.298% 6.9523e-03 1.8869e-02 59.309% 59.309% 5.0000e-02\n",
      "   3.00   2.0359e-02 56.614% 1.9319e-02 2.1640e-02 56.424% 62.731% 5.0000e-02\n",
      "   4.00   1.5536e-02 62.969% 8.9236e-03 1.4040e-02 64.899% 65.163% 5.0000e-02\n",
      "   5.00   1.3850e-02 63.792% 7.7816e-03 1.2787e-02 66.502% 66.780% 5.0000e-02\n",
      "   6.00   1.1851e-02 64.641% 9.3267e-03 1.3854e-02 65.133% 67.246% 5.0000e-02\n",
      "   7.00   1.0398e-02 69.160% 5.8872e-03 1.1985e-02 67.570% 67.627% 5.0000e-02\n",
      "   8.00   1.2678e-02 67.024% 1.5425e-02 1.3804e-02 65.195% 67.986% 5.0000e-02\n",
      "   9.00   1.8874e-02 56.331% 2.3548e-02 2.0960e-02 57.114% 68.297% 5.0000e-02\n",
      "  10.00   1.0410e-02 68.898% 8.2357e-03 1.2116e-02 67.394% 68.297% 5.0000e-02\n"
     ]
    }
   ],
   "source": [
    "HLModel = HessianlearnModel(problem,regularization,data)\n",
    "\n",
    "HLModel.fit()"
   ]
  },
  {
   "cell_type": "markdown",
   "metadata": {},
   "source": [
    "## Postprocess the results"
   ]
  },
  {
   "cell_type": "code",
   "execution_count": 7,
   "metadata": {},
   "outputs": [
    {
     "data": {
      "image/png": "[encoded data removed]",
      "text/plain": [
       "<Figure size 1440x288 with 20 Axes>"
      ]
     },
     "metadata": {
      "needs_background": "light"
     },
     "output_type": "display_data"
    }
   ],
   "source": [
    "encoder = tf.keras.models.Model(input_img, encoded)\n",
    "encoded_input = tf.keras.layers.Input(shape=(encoding_dim,))\n",
    "\n",
    "decoder_layer = autoencoder.layers[-1]\n",
    "decoder = tf.keras.models.Model(encoded_input, decoder_layer(encoded_input))\n",
    "\n",
    "encoded_imgs = encoder.predict(x_test)\n",
    "decoded_imgs = decoder.predict(encoded_imgs)\n",
    "\n",
    "import matplotlib.pyplot as plt\n",
    "\n",
    "n = 10  # how many digits we will display\n",
    "plt.figure(figsize=(20, 4))\n",
    "for i in range(n):\n",
    "    # display original\n",
    "    ax = plt.subplot(2, n, i + 1)\n",
    "    plt.imshow(x_test[i].reshape(28, 28))\n",
    "    plt.gray()\n",
    "    ax.get_xaxis().set_visible(False)\n",
    "    ax.get_yaxis().set_visible(False)\n",
    "\n",
    "    # display reconstruction\n",
    "    ax = plt.subplot(2, n, i + 1 + n)\n",
    "    plt.imshow(decoded_imgs[i].reshape(28, 28))\n",
    "    plt.gray()\n",
    "    ax.get_xaxis().set_visible(False)\n",
    "    ax.get_yaxis().set_visible(False)\n",
    "plt.show()"
   ]
  }
 ],
 "metadata": {
  "kernelspec": {
   "display_name": "Python 3",
   "language": "python",
   "name": "python3"
  },
  "language_info": {
   "codemirror_mode": {
    "name": "ipython",
    "version": 3
   },
   "file_extension": ".py",
   "mimetype": "text/x-python",
   "name": "python",
   "nbconvert_exporter": "python",
   "pygments_lexer": "ipython3",
   "version": "3.7.7"
  }
 },
 "nbformat": 4,
 "nbformat_minor": 4
}
